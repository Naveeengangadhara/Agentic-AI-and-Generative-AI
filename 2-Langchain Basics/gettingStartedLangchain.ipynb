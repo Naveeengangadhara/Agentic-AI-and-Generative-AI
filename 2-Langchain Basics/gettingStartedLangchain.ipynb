{
 "cells": [
  {
   "cell_type": "code",
   "execution_count": null,
   "metadata": {},
   "outputs": [],
   "source": [
    "import os\n",
    "from dotenv import load_dotenv\n",
    "load_dotenv()"
   ]
  },
  {
   "cell_type": "code",
   "execution_count": null,
   "metadata": {},
   "outputs": [],
   "source": [
    "os.getenv(\"OPENAI_API_KEY\")"
   ]
  },
  {
   "cell_type": "code",
   "execution_count": null,
   "metadata": {},
   "outputs": [],
   "source": [
    "os.environ[\"OPENAI_API_KEY\"] = os.getenv(\"OPENAI_API_KEY\")\n",
    "\n",
    "## Langsmith tracing and tracking\n",
    "\n",
    "os.environ[\"LANGCHAIN_TRACING_V2\"] = \"true\"\n",
    "os.environ[\"LANGCHAIN_PROJECT\"]=os.getenv(\"LANGCHAIN_PROJECT\")\n",
    "os.environ[\"LANGCHAIN_API_KEY\"] = os.getenv(\"LANGCHAIN_API_KEY\")"
   ]
  },
  {
   "cell_type": "code",
   "execution_count": null,
   "metadata": {},
   "outputs": [],
   "source": [
    "from langchain_openai import ChatOpenAI\n",
    "\n",
    "llm = ChatOpenAI(model=\"gpt-4o\")\n",
    "print(llm)"
   ]
  },
  {
   "cell_type": "code",
   "execution_count": null,
   "metadata": {},
   "outputs": [],
   "source": [
    "result=llm.invoke(\"what is agentic ai\")\n",
    "print(result.content)"
   ]
  },
  {
   "cell_type": "code",
   "execution_count": null,
   "metadata": {},
   "outputs": [],
   "source": [
    "from langchain_groq import ChatGroq\n",
    "\n",
    "model= ChatGroq(model=\"qwen-qwq-32b\")\n",
    "res=model.invoke(\"what is agentic ai\")\n",
    "print(res.content)"
   ]
  },
  {
   "cell_type": "markdown",
   "metadata": {},
   "source": [
    "##Prompt Engineering"
   ]
  },
  {
   "cell_type": "code",
   "execution_count": null,
   "metadata": {},
   "outputs": [],
   "source": [
    "from langchain_core.prompts import ChatPromptTemplate\n",
    "\n",
    "prompt= ChatPromptTemplate(\n",
    "    [\n",
    "        (\"system\", \"You are an expert AI engineer. Provide me answer based on the question.\"),\n",
    "        (\"user\", \"{input}\")\n",
    "    ]\n",
    ")\n",
    "prompt"
   ]
  },
  {
   "cell_type": "code",
   "execution_count": null,
   "metadata": {},
   "outputs": [],
   "source": [
    "from langchain_groq import ChatGroq\n",
    "\n",
    "model= ChatGroq(model=\"gemma2-9b-it\")\n",
    "model"
   ]
  },
  {
   "cell_type": "markdown",
   "metadata": {
    "slideshow": {
     "slide_type": "slide"
    }
   },
   "source": [
    "🔗 What is Chaining in LangChain?\n",
    "Chaining in LangChain means connecting multiple components (like prompts, models, and output parsers) into a single pipeline where the output of one step becomes the input to the next.\n",
    "\n",
    "Think of it like assembling LEGO blocks where:\n",
    "\n",
    "A Prompt prepares the input,\n",
    "\n",
    "The LLM generates text based on that input,\n",
    "\n",
    "An OutputParser formats or extracts structured data from the text.\n",
    "\n",
    "This entire process is called a chain.\n",
    "\n",
    "🧠 Why is Chaining Important?\n",
    "Chaining makes complex workflows easier by:\n",
    "\n",
    "Automating multi-step reasoning\n",
    "\n",
    "Separating logic clearly (prompt vs. model vs. parsing)\n",
    "\n",
    "Reusability and composability\n",
    "\n",
    "📦 LangChain Chain Syntax (Pipe Operator |)\n",
    "LangChain supports function-style chaining using the pipe operator |:\n",
    "\n",
    "python\n",
    "Copy\n",
    "Edit\n",
    "chain = prompt | llm | parser"
   ]
  },
  {
   "cell_type": "code",
   "execution_count": null,
   "metadata": {},
   "outputs": [],
   "source": [
    "## Chaining\n",
    "\n",
    "chain=prompt|model\n",
    "chain"
   ]
  },
  {
   "cell_type": "code",
   "execution_count": null,
   "metadata": {},
   "outputs": [],
   "source": [
    "reponse=chain.invoke({\"input\": \"what is agentic ai\"})\n",
    "print(reponse.content)"
   ]
  },
  {
   "cell_type": "markdown",
   "metadata": {},
   "source": [
    "🧩 What Is an Output Parser in LangChain?\n",
    "An Output Parser is a component in LangChain that interprets and structures the raw output from a language model (LLM). Since LLMs usually return plain text, output parsers convert that text into usable, structured formats like:\n",
    "\n",
    "Strings (\"Just plain text\")\n",
    "\n",
    "Lists ([\"item1\", \"item2\"])\n",
    "\n",
    "JSON/dictionaries ({\"name\": \"Naveen\", \"age\": 25})\n",
    "\n",
    "Even custom objects"
   ]
  },
  {
   "cell_type": "code",
   "execution_count": null,
   "metadata": {},
   "outputs": [],
   "source": [
    "from langchain_core.output_parsers import StrOutputParser\n",
    "\n",
    "output_parser = StrOutputParser()\n",
    "chain=prompt | model | output_parser\n",
    "reponse=chain.invoke({\"input\": \"what is difference between ML and Dl\"})\n",
    "print(reponse)"
   ]
  },
  {
   "cell_type": "markdown",
   "metadata": {},
   "source": [
    "Example: String Out_Parser using Simple PromptTemplate"
   ]
  },
  {
   "cell_type": "code",
   "execution_count": null,
   "metadata": {},
   "outputs": [],
   "source": [
    "from langchain_core.output_parsers import JsonOutputParser\n",
    "from langchain_core.prompts import PromptTemplate\n",
    "\n",
    "output_parser = JsonOutputParser()\n",
    "prompt = PromptTemplate(\n",
    "    template=\" {query} \\n\"\n",
    "    \"Please answer in the following JSON format:\\n{format_instructions}\",\n",
    "    input_variables=[\"query\"],\n",
    "    partial_variables={\"format_instructions\": output_parser},\n",
    ")\n",
    "chain=prompt | model | output_parser\n",
    "reponse=chain.invoke({\"query\": \"what is difference between ML and Dl\"})\n",
    "print(reponse)"
   ]
  },
  {
   "cell_type": "markdown",
   "metadata": {},
   "source": [
    "Example: Json Out_Parser using  ChatPromptTemplate"
   ]
  },
  {
   "cell_type": "code",
   "execution_count": null,
   "metadata": {},
   "outputs": [],
   "source": [
    "from langchain_core.output_parsers import JsonOutputParser\n",
    "from langchain_core.prompts import ChatPromptTemplate\n",
    "\n",
    "output_parser = JsonOutputParser()\n",
    "\n",
    "format_instructions = output_parser.get_format_instructions()\n",
    "\n",
    "prompt = ChatPromptTemplate(\n",
    "    [\n",
    "        (\"system\", \"You are an expert AI engineer. Provide me answer based on the question.\"),\n",
    "        (\"user\", \n",
    "        \"{query} \\n\"\n",
    "        \"Please write answer in JSON format:\\n{format_instructions}\"),\n",
    "    ],\n",
    "    input_variables=[\"query\"],\n",
    "    partial_variables={\"format_instructions\": format_instructions},\n",
    ")\n",
    "\n",
    "chain = prompt | model | output_parser\n",
    "response = chain.invoke({\"query\": \"what is difference between ML and Dl\"})\n",
    "print(response)"
   ]
  },
  {
   "cell_type": "markdown",
   "metadata": {},
   "source": [
    "Example: XML Out_Parser using Simple PromptTemplate"
   ]
  },
  {
   "cell_type": "code",
   "execution_count": null,
   "metadata": {},
   "outputs": [],
   "source": [
    "from langchain_core.output_parsers import XMLOutputParser\n",
    "from langchain_core.prompts import ChatPromptTemplate\n",
    "\n",
    "output_parser = XMLOutputParser()\n",
    "\n",
    "format_instructions = output_parser.get_format_instructions()\n",
    "\n",
    "prompt = ChatPromptTemplate(\n",
    "    [\n",
    "        (\"system\", \"You are an expert AI engineer. Provide me answer based on the question.\"),\n",
    "        (\"user\", \n",
    "        \"{query} \\n\"\n",
    "        \"Please write answer in XML format:\\n{format_instructions}\"),\n",
    "        \n",
    "    ],\n",
    "    input_variables=[\"query\"],\n",
    "    partial_variables={\"format_instructions\": format_instructions},\n",
    ")\n",
    "\n",
    "chain = prompt | model | output_parser\n",
    "response = chain.invoke({\"query\": \"what is difference between ML and Dl\"})\n",
    "print(response)"
   ]
  },
  {
   "cell_type": "code",
   "execution_count": null,
   "metadata": {},
   "outputs": [],
   "source": [
    "llm_response = (prompt | model).invoke({\"query\": \"What is the difference between ML and DL?\"})\n",
    "print(llm_response)  # This will print the raw XML string\n",
    "\n",
    "# You can then parse it if needed\n",
    "parsed_response = output_parser.invoke(response)\n",
    "print(parsed_response)\n"
   ]
  }
 ],
 "metadata": {
  "kernelspec": {
   "display_name": "venv",
   "language": "python",
   "name": "python3"
  },
  "language_info": {
   "codemirror_mode": {
    "name": "ipython",
    "version": 3
   },
   "file_extension": ".py",
   "mimetype": "text/x-python",
   "name": "python",
   "nbconvert_exporter": "python",
   "pygments_lexer": "ipython3",
   "version": "3.13.2"
  }
 },
 "nbformat": 4,
 "nbformat_minor": 2
}
